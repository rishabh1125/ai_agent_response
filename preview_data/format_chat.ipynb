{
 "cells": [
  {
   "cell_type": "markdown",
   "metadata": {},
   "source": [
    "# Install packages"
   ]
  },
  {
   "cell_type": "code",
   "execution_count": 1,
   "metadata": {},
   "outputs": [
    {
     "name": "stdout",
     "output_type": "stream",
     "text": [
      "Requirement already satisfied: pandas==2.0.3 in c:\\users\\prish\\appdata\\local\\programs\\python\\python311\\lib\\site-packages (from -r requirements.txt (line 1)) (2.0.3)"
     ]
    },
    {
     "name": "stderr",
     "output_type": "stream",
     "text": [
      "\n",
      "[notice] A new release of pip is available: 23.2.1 -> 24.0\n",
      "[notice] To update, run: python.exe -m pip install --upgrade pip\n"
     ]
    },
    {
     "name": "stdout",
     "output_type": "stream",
     "text": [
      "\n",
      "Collecting sentence-transformers==2.6.1 (from -r requirements.txt (line 2))\n",
      "  Obtaining dependency information for sentence-transformers==2.6.1 from https://files.pythonhosted.org/packages/ba/20/7ef81df2e07322d95332d07c1c38c597f543c1f666d689a3153ba6fa09e3/sentence_transformers-2.6.1-py3-none-any.whl.metadata\n",
      "  Downloading sentence_transformers-2.6.1-py3-none-any.whl.metadata (11 kB)\n",
      "Requirement already satisfied: python-dateutil>=2.8.2 in c:\\users\\prish\\appdata\\roaming\\python\\python311\\site-packages (from pandas==2.0.3->-r requirements.txt (line 1)) (2.8.2)\n",
      "Requirement already satisfied: pytz>=2020.1 in c:\\users\\prish\\appdata\\local\\programs\\python\\python311\\lib\\site-packages (from pandas==2.0.3->-r requirements.txt (line 1)) (2023.3)\n",
      "Requirement already satisfied: tzdata>=2022.1 in c:\\users\\prish\\appdata\\local\\programs\\python\\python311\\lib\\site-packages (from pandas==2.0.3->-r requirements.txt (line 1)) (2023.3)\n",
      "Requirement already satisfied: numpy>=1.21.0 in c:\\users\\prish\\appdata\\local\\programs\\python\\python311\\lib\\site-packages (from pandas==2.0.3->-r requirements.txt (line 1)) (1.25.2)\n",
      "Requirement already satisfied: transformers<5.0.0,>=4.32.0 in c:\\users\\prish\\appdata\\local\\programs\\python\\python311\\lib\\site-packages (from sentence-transformers==2.6.1->-r requirements.txt (line 2)) (4.33.1)\n",
      "Requirement already satisfied: tqdm in c:\\users\\prish\\appdata\\local\\programs\\python\\python311\\lib\\site-packages (from sentence-transformers==2.6.1->-r requirements.txt (line 2)) (4.66.1)\n",
      "Requirement already satisfied: torch>=1.11.0 in c:\\users\\prish\\appdata\\local\\programs\\python\\python311\\lib\\site-packages (from sentence-transformers==2.6.1->-r requirements.txt (line 2)) (2.0.1)\n",
      "Requirement already satisfied: scikit-learn in c:\\users\\prish\\appdata\\local\\programs\\python\\python311\\lib\\site-packages (from sentence-transformers==2.6.1->-r requirements.txt (line 2)) (1.3.0)\n",
      "Requirement already satisfied: scipy in c:\\users\\prish\\appdata\\local\\programs\\python\\python311\\lib\\site-packages (from sentence-transformers==2.6.1->-r requirements.txt (line 2)) (1.11.2)\n",
      "Requirement already satisfied: huggingface-hub>=0.15.1 in c:\\users\\prish\\appdata\\local\\programs\\python\\python311\\lib\\site-packages (from sentence-transformers==2.6.1->-r requirements.txt (line 2)) (0.17.1)\n",
      "Requirement already satisfied: Pillow in c:\\users\\prish\\appdata\\local\\programs\\python\\python311\\lib\\site-packages (from sentence-transformers==2.6.1->-r requirements.txt (line 2)) (10.0.0)\n",
      "Requirement already satisfied: filelock in c:\\users\\prish\\appdata\\local\\programs\\python\\python311\\lib\\site-packages (from huggingface-hub>=0.15.1->sentence-transformers==2.6.1->-r requirements.txt (line 2)) (3.12.2)\n",
      "Requirement already satisfied: fsspec in c:\\users\\prish\\appdata\\local\\programs\\python\\python311\\lib\\site-packages (from huggingface-hub>=0.15.1->sentence-transformers==2.6.1->-r requirements.txt (line 2)) (2023.9.0)\n",
      "Requirement already satisfied: requests in c:\\users\\prish\\appdata\\local\\programs\\python\\python311\\lib\\site-packages (from huggingface-hub>=0.15.1->sentence-transformers==2.6.1->-r requirements.txt (line 2)) (2.31.0)\n",
      "Requirement already satisfied: pyyaml>=5.1 in c:\\users\\prish\\appdata\\local\\programs\\python\\python311\\lib\\site-packages (from huggingface-hub>=0.15.1->sentence-transformers==2.6.1->-r requirements.txt (line 2)) (6.0.1)\n",
      "Requirement already satisfied: typing-extensions>=3.7.4.3 in c:\\users\\prish\\appdata\\local\\programs\\python\\python311\\lib\\site-packages (from huggingface-hub>=0.15.1->sentence-transformers==2.6.1->-r requirements.txt (line 2)) (4.7.1)\n",
      "Requirement already satisfied: packaging>=20.9 in c:\\users\\prish\\appdata\\roaming\\python\\python311\\site-packages (from huggingface-hub>=0.15.1->sentence-transformers==2.6.1->-r requirements.txt (line 2)) (23.1)\n",
      "Requirement already satisfied: six>=1.5 in c:\\users\\prish\\appdata\\roaming\\python\\python311\\site-packages (from python-dateutil>=2.8.2->pandas==2.0.3->-r requirements.txt (line 1)) (1.16.0)\n",
      "Requirement already satisfied: sympy in c:\\users\\prish\\appdata\\local\\programs\\python\\python311\\lib\\site-packages (from torch>=1.11.0->sentence-transformers==2.6.1->-r requirements.txt (line 2)) (1.12)\n",
      "Requirement already satisfied: networkx in c:\\users\\prish\\appdata\\local\\programs\\python\\python311\\lib\\site-packages (from torch>=1.11.0->sentence-transformers==2.6.1->-r requirements.txt (line 2)) (3.1)\n",
      "Requirement already satisfied: jinja2 in c:\\users\\prish\\appdata\\local\\programs\\python\\python311\\lib\\site-packages (from torch>=1.11.0->sentence-transformers==2.6.1->-r requirements.txt (line 2)) (3.1.2)\n",
      "Requirement already satisfied: colorama in c:\\users\\prish\\appdata\\roaming\\python\\python311\\site-packages (from tqdm->sentence-transformers==2.6.1->-r requirements.txt (line 2)) (0.4.6)\n",
      "Requirement already satisfied: regex!=2019.12.17 in c:\\users\\prish\\appdata\\local\\programs\\python\\python311\\lib\\site-packages (from transformers<5.0.0,>=4.32.0->sentence-transformers==2.6.1->-r requirements.txt (line 2)) (2023.8.8)\n",
      "Requirement already satisfied: tokenizers!=0.11.3,<0.14,>=0.11.1 in c:\\users\\prish\\appdata\\local\\programs\\python\\python311\\lib\\site-packages (from transformers<5.0.0,>=4.32.0->sentence-transformers==2.6.1->-r requirements.txt (line 2)) (0.13.3)\n",
      "Requirement already satisfied: safetensors>=0.3.1 in c:\\users\\prish\\appdata\\local\\programs\\python\\python311\\lib\\site-packages (from transformers<5.0.0,>=4.32.0->sentence-transformers==2.6.1->-r requirements.txt (line 2)) (0.3.3)\n",
      "Requirement already satisfied: joblib>=1.1.1 in c:\\users\\prish\\appdata\\local\\programs\\python\\python311\\lib\\site-packages (from scikit-learn->sentence-transformers==2.6.1->-r requirements.txt (line 2)) (1.3.2)\n",
      "Requirement already satisfied: threadpoolctl>=2.0.0 in c:\\users\\prish\\appdata\\local\\programs\\python\\python311\\lib\\site-packages (from scikit-learn->sentence-transformers==2.6.1->-r requirements.txt (line 2)) (3.2.0)\n",
      "Requirement already satisfied: MarkupSafe>=2.0 in c:\\users\\prish\\appdata\\local\\programs\\python\\python311\\lib\\site-packages (from jinja2->torch>=1.11.0->sentence-transformers==2.6.1->-r requirements.txt (line 2)) (2.1.3)\n",
      "Requirement already satisfied: charset-normalizer<4,>=2 in c:\\users\\prish\\appdata\\local\\programs\\python\\python311\\lib\\site-packages (from requests->huggingface-hub>=0.15.1->sentence-transformers==2.6.1->-r requirements.txt (line 2)) (3.1.0)\n",
      "Requirement already satisfied: idna<4,>=2.5 in c:\\users\\prish\\appdata\\local\\programs\\python\\python311\\lib\\site-packages (from requests->huggingface-hub>=0.15.1->sentence-transformers==2.6.1->-r requirements.txt (line 2)) (3.4)\n",
      "Requirement already satisfied: urllib3<3,>=1.21.1 in c:\\users\\prish\\appdata\\local\\programs\\python\\python311\\lib\\site-packages (from requests->huggingface-hub>=0.15.1->sentence-transformers==2.6.1->-r requirements.txt (line 2)) (2.0.2)\n",
      "Requirement already satisfied: certifi>=2017.4.17 in c:\\users\\prish\\appdata\\local\\programs\\python\\python311\\lib\\site-packages (from requests->huggingface-hub>=0.15.1->sentence-transformers==2.6.1->-r requirements.txt (line 2)) (2023.5.7)\n",
      "Requirement already satisfied: mpmath>=0.19 in c:\\users\\prish\\appdata\\local\\programs\\python\\python311\\lib\\site-packages (from sympy->torch>=1.11.0->sentence-transformers==2.6.1->-r requirements.txt (line 2)) (1.3.0)\n",
      "Using cached sentence_transformers-2.6.1-py3-none-any.whl (163 kB)\n",
      "Installing collected packages: sentence-transformers\n",
      "  Attempting uninstall: sentence-transformers\n",
      "    Found existing installation: sentence-transformers 2.2.2\n",
      "    Uninstalling sentence-transformers-2.2.2:\n",
      "      Successfully uninstalled sentence-transformers-2.2.2\n",
      "Successfully installed sentence-transformers-2.6.1\n"
     ]
    }
   ],
   "source": [
    "# The purpose of this file is to get data in text for better viewing. It is not directly lined to project.\n",
    "!pip install -r requirements.txt"
   ]
  },
  {
   "cell_type": "markdown",
   "metadata": {},
   "source": [
    "# Import packages"
   ]
  },
  {
   "cell_type": "code",
   "execution_count": 1,
   "metadata": {},
   "outputs": [],
   "source": [
    "import pandas as pd\n",
    "import numpy as np"
   ]
  },
  {
   "cell_type": "markdown",
   "metadata": {},
   "source": [
    "Data visualization"
   ]
  },
  {
   "cell_type": "code",
   "execution_count": 3,
   "metadata": {},
   "outputs": [],
   "source": [
    "df_unequal = pd.read_csv('../Data/cleaned_non_equal.csv')\n",
    "df_equal= pd.read_csv('../Data/cleaned_equal.csv')"
   ]
  },
  {
   "cell_type": "code",
   "execution_count": 4,
   "metadata": {},
   "outputs": [
    {
     "data": {
      "text/html": [
       "<div>\n",
       "<style scoped>\n",
       "    .dataframe tbody tr th:only-of-type {\n",
       "        vertical-align: middle;\n",
       "    }\n",
       "\n",
       "    .dataframe tbody tr th {\n",
       "        vertical-align: top;\n",
       "    }\n",
       "\n",
       "    .dataframe thead th {\n",
       "        text-align: right;\n",
       "    }\n",
       "</style>\n",
       "<table border=\"1\" class=\"dataframe\">\n",
       "  <thead>\n",
       "    <tr style=\"text-align: right;\">\n",
       "      <th></th>\n",
       "      <th>id</th>\n",
       "      <th>prev_context</th>\n",
       "      <th>response</th>\n",
       "      <th>agent_response</th>\n",
       "    </tr>\n",
       "  </thead>\n",
       "  <tbody>\n",
       "    <tr>\n",
       "      <th>0</th>\n",
       "      <td>4bdc637d-6290-4dc8-8686-d12d0dc31fa8</td>\n",
       "      <td>Customer's Message: Can you please email me &lt;D...</td>\n",
       "      <td>Hi,\\n\\nYour order BL232472784IN has been cance...</td>\n",
       "      <td>Hi,\\nYour order BL232472784IN has been cancele...</td>\n",
       "    </tr>\n",
       "    <tr>\n",
       "      <th>1</th>\n",
       "      <td>6c56703c-7c17-400b-8698-7375a7acd057</td>\n",
       "      <td>Customer's Message: NEVER MIND i GOT IT FIXED ...</td>\n",
       "      <td>Hello &lt;PERSON&gt;,\\n\\nThank you for updating us o...</td>\n",
       "      <td>Hello &lt;PERSON&gt;,\\nThank you for updating us on ...</td>\n",
       "    </tr>\n",
       "  </tbody>\n",
       "</table>\n",
       "</div>"
      ],
      "text/plain": [
       "                                     id  \\\n",
       "0  4bdc637d-6290-4dc8-8686-d12d0dc31fa8   \n",
       "1  6c56703c-7c17-400b-8698-7375a7acd057   \n",
       "\n",
       "                                        prev_context  \\\n",
       "0  Customer's Message: Can you please email me <D...   \n",
       "1  Customer's Message: NEVER MIND i GOT IT FIXED ...   \n",
       "\n",
       "                                            response  \\\n",
       "0  Hi,\\n\\nYour order BL232472784IN has been cance...   \n",
       "1  Hello <PERSON>,\\n\\nThank you for updating us o...   \n",
       "\n",
       "                                      agent_response  \n",
       "0  Hi,\\nYour order BL232472784IN has been cancele...  \n",
       "1  Hello <PERSON>,\\nThank you for updating us on ...  "
      ]
     },
     "execution_count": 4,
     "metadata": {},
     "output_type": "execute_result"
    }
   ],
   "source": [
    "df_equal.head(2)"
   ]
  },
  {
   "cell_type": "markdown",
   "metadata": {},
   "source": [
    "# View files"
   ]
  },
  {
   "cell_type": "code",
   "execution_count": 5,
   "metadata": {},
   "outputs": [],
   "source": [
    "def add_conversation_to_file(df:pd.DataFrame,index: int ):\n",
    "    \"\"\"\n",
    "        This function simply saves files to random_chat.txt for better viewing\n",
    "    \"\"\"\n",
    "    with open('chat_formatted.txt','a',encoding=\"utf-8\") as f:\n",
    "        f.writelines(['\\n\\n','_'*100,\"\\nContext:\"+ df['prev_context'][index],\"\\n\\nresponse:\\n\"+ df['response'][index],\"\\n\\nagent_response:\\n\"+ df['agent_response'][index]]) "
   ]
  },
  {
   "cell_type": "code",
   "execution_count": 6,
   "metadata": {},
   "outputs": [],
   "source": [
    "\"\"\"\n",
    "    Adding 100 random rows from non_equal and 20 random rows from equal to text for viewing.\n",
    "\"\"\"\n",
    "from random import randint\n",
    "import json\n",
    "for i in range(20):\n",
    "   random_index = randint(0,len(df_equal))\n",
    "   add_conversation_to_file(df_equal,random_index)\n",
    "\n",
    "for i in range(100):\n",
    "    random_index = randint(0,len(df_unequal))\n",
    "    add_conversation_to_file(df_unequal,random_index)\n"
   ]
  }
 ],
 "metadata": {
  "kernelspec": {
   "display_name": ".venv",
   "language": "python",
   "name": "python3"
  },
  "language_info": {
   "codemirror_mode": {
    "name": "ipython",
    "version": 3
   },
   "file_extension": ".py",
   "mimetype": "text/x-python",
   "name": "python",
   "nbconvert_exporter": "python",
   "pygments_lexer": "ipython3",
   "version": "3.11.1"
  }
 },
 "nbformat": 4,
 "nbformat_minor": 2
}
